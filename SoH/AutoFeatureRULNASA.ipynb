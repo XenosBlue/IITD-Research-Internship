{
  "nbformat": 4,
  "nbformat_minor": 0,
  "metadata": {
    "colab": {
      "provenance": [],
      "collapsed_sections": [
        "AqZ6PNW4M8jH",
        "6ihzry61NBDw"
      ]
    },
    "kernelspec": {
      "name": "python3",
      "display_name": "Python 3"
    },
    "language_info": {
      "name": "python"
    },
    "accelerator": "GPU",
    "gpuClass": "standard"
  },
  "cells": [
    {
      "cell_type": "markdown",
      "source": [
        "#Imports and Mounting"
      ],
      "metadata": {
        "id": "AqZ6PNW4M8jH"
      }
    },
    {
      "cell_type": "code",
      "execution_count": null,
      "metadata": {
        "id": "weRyuhP583zj"
      },
      "outputs": [],
      "source": [
        "import numpy as np\n",
        "import matplotlib.pyplot as plt\n",
        "import tensorflow as tf\n",
        "from tensorflow import keras\n",
        "import pandas as pd\n",
        "import random"
      ]
    },
    {
      "cell_type": "code",
      "source": [
        "from google.colab import drive\n",
        "drive.mount('/gdrive')"
      ],
      "metadata": {
        "colab": {
          "base_uri": "https://localhost:8080/"
        },
        "id": "tXX5BOgx8_QS",
        "outputId": "d4cc567e-e5d3-48b6-8eed-d3e2f0f2c91c"
      },
      "execution_count": null,
      "outputs": [
        {
          "output_type": "stream",
          "name": "stdout",
          "text": [
            "Drive already mounted at /gdrive; to attempt to forcibly remount, call drive.mount(\"/gdrive\", force_remount=True).\n"
          ]
        }
      ]
    },
    {
      "cell_type": "code",
      "source": [
        "%cd /gdrive/MyDrive/rul/anshul/\n",
        "%ls"
      ],
      "metadata": {
        "id": "3xab8aoLQCJR",
        "colab": {
          "base_uri": "https://localhost:8080/"
        },
        "outputId": "0f61c59a-860d-48a6-c4cb-a8f789289a49"
      },
      "execution_count": null,
      "outputs": [
        {
          "output_type": "stream",
          "name": "stdout",
          "text": [
            "/gdrive/MyDrive/rul/anshul\n",
            "charge.csv  discharge_2.csv  discharge.csv  model.png\n"
          ]
        }
      ]
    },
    {
      "cell_type": "markdown",
      "source": [
        "#Parameters and Functions"
      ],
      "metadata": {
        "id": "6ihzry61NBDw"
      }
    },
    {
      "cell_type": "code",
      "source": [
        "#PARAMS\n",
        "BATCH_SIZE = 32\n",
        "TIME_STEPS = 8\n",
        "EPOCHS     = 100\n",
        "SPLIT      = 0.5"
      ],
      "metadata": {
        "id": "FeMTxW7I8_S-"
      },
      "execution_count": null,
      "outputs": []
    },
    {
      "cell_type": "code",
      "source": [
        "#FUNCTIONS\n",
        "\n",
        "def create_sequences(xdat,ydat):\n",
        "  x=[]\n",
        "  for i in range(TIME_STEPS,len(xdat)+1):\n",
        "    x.append(xdat[i-TIME_STEPS:i,:])\n",
        "  return np.stack(x),ydat[TIME_STEPS-1:,:]\n",
        "\n",
        "def shuffle_data(xdat,ydat):\n",
        "  idx = np.random.permutation(len(xdat))\n",
        "  xdat = xdat[idx]\n",
        "  ydat = ydat[idx]\n",
        "  return xdat,ydat\n",
        "\n",
        "def split_data(xdat,ydat,split=SPLIT):\n",
        "  limit = int(len(xdat)*(1-split))\n",
        "  return xdat[:limit,:,:],ydat[:limit,:],xdat[limit:,:,:],ydat[limit:,:]\n",
        "\n",
        "def mish(x):\n",
        "  return tf.multiply(tf.activations.tanh(tf.activations.softplus(x)),x)\n",
        "\n"
      ],
      "metadata": {
        "id": "MCeDFgqP9FP2"
      },
      "execution_count": null,
      "outputs": []
    },
    {
      "cell_type": "markdown",
      "source": [
        "#Data Frame"
      ],
      "metadata": {
        "id": "Y44HSu0aM3WE"
      }
    },
    {
      "cell_type": "code",
      "source": [
        "y_df = pd.read_csv('discharge_2.csv').drop(['datetime','cycle','ambient_temperature'],axis=1)\n",
        "y_df"
      ],
      "metadata": {
        "colab": {
          "base_uri": "https://localhost:8080/",
          "height": 424
        },
        "id": "1zU67N3M5IBp",
        "outputId": "6facea3e-3c59-4fca-8ca6-bbc931f310cb"
      },
      "execution_count": null,
      "outputs": [
        {
          "output_type": "execute_result",
          "data": {
            "text/plain": [
              "     capacity\n",
              "0    1.856487\n",
              "1    1.846327\n",
              "2    1.835349\n",
              "3    1.835263\n",
              "4    1.834646\n",
              "..        ...\n",
              "163  1.293464\n",
              "164  1.288003\n",
              "165  1.287453\n",
              "166  1.309015\n",
              "167  1.325079\n",
              "\n",
              "[168 rows x 1 columns]"
            ],
            "text/html": [
              "\n",
              "  <div id=\"df-6d365d97-141a-4ac7-9991-aa10653938e0\">\n",
              "    <div class=\"colab-df-container\">\n",
              "      <div>\n",
              "<style scoped>\n",
              "    .dataframe tbody tr th:only-of-type {\n",
              "        vertical-align: middle;\n",
              "    }\n",
              "\n",
              "    .dataframe tbody tr th {\n",
              "        vertical-align: top;\n",
              "    }\n",
              "\n",
              "    .dataframe thead th {\n",
              "        text-align: right;\n",
              "    }\n",
              "</style>\n",
              "<table border=\"1\" class=\"dataframe\">\n",
              "  <thead>\n",
              "    <tr style=\"text-align: right;\">\n",
              "      <th></th>\n",
              "      <th>capacity</th>\n",
              "    </tr>\n",
              "  </thead>\n",
              "  <tbody>\n",
              "    <tr>\n",
              "      <th>0</th>\n",
              "      <td>1.856487</td>\n",
              "    </tr>\n",
              "    <tr>\n",
              "      <th>1</th>\n",
              "      <td>1.846327</td>\n",
              "    </tr>\n",
              "    <tr>\n",
              "      <th>2</th>\n",
              "      <td>1.835349</td>\n",
              "    </tr>\n",
              "    <tr>\n",
              "      <th>3</th>\n",
              "      <td>1.835263</td>\n",
              "    </tr>\n",
              "    <tr>\n",
              "      <th>4</th>\n",
              "      <td>1.834646</td>\n",
              "    </tr>\n",
              "    <tr>\n",
              "      <th>...</th>\n",
              "      <td>...</td>\n",
              "    </tr>\n",
              "    <tr>\n",
              "      <th>163</th>\n",
              "      <td>1.293464</td>\n",
              "    </tr>\n",
              "    <tr>\n",
              "      <th>164</th>\n",
              "      <td>1.288003</td>\n",
              "    </tr>\n",
              "    <tr>\n",
              "      <th>165</th>\n",
              "      <td>1.287453</td>\n",
              "    </tr>\n",
              "    <tr>\n",
              "      <th>166</th>\n",
              "      <td>1.309015</td>\n",
              "    </tr>\n",
              "    <tr>\n",
              "      <th>167</th>\n",
              "      <td>1.325079</td>\n",
              "    </tr>\n",
              "  </tbody>\n",
              "</table>\n",
              "<p>168 rows × 1 columns</p>\n",
              "</div>\n",
              "      <button class=\"colab-df-convert\" onclick=\"convertToInteractive('df-6d365d97-141a-4ac7-9991-aa10653938e0')\"\n",
              "              title=\"Convert this dataframe to an interactive table.\"\n",
              "              style=\"display:none;\">\n",
              "        \n",
              "  <svg xmlns=\"http://www.w3.org/2000/svg\" height=\"24px\"viewBox=\"0 0 24 24\"\n",
              "       width=\"24px\">\n",
              "    <path d=\"M0 0h24v24H0V0z\" fill=\"none\"/>\n",
              "    <path d=\"M18.56 5.44l.94 2.06.94-2.06 2.06-.94-2.06-.94-.94-2.06-.94 2.06-2.06.94zm-11 1L8.5 8.5l.94-2.06 2.06-.94-2.06-.94L8.5 2.5l-.94 2.06-2.06.94zm10 10l.94 2.06.94-2.06 2.06-.94-2.06-.94-.94-2.06-.94 2.06-2.06.94z\"/><path d=\"M17.41 7.96l-1.37-1.37c-.4-.4-.92-.59-1.43-.59-.52 0-1.04.2-1.43.59L10.3 9.45l-7.72 7.72c-.78.78-.78 2.05 0 2.83L4 21.41c.39.39.9.59 1.41.59.51 0 1.02-.2 1.41-.59l7.78-7.78 2.81-2.81c.8-.78.8-2.07 0-2.86zM5.41 20L4 18.59l7.72-7.72 1.47 1.35L5.41 20z\"/>\n",
              "  </svg>\n",
              "      </button>\n",
              "      \n",
              "  <style>\n",
              "    .colab-df-container {\n",
              "      display:flex;\n",
              "      flex-wrap:wrap;\n",
              "      gap: 12px;\n",
              "    }\n",
              "\n",
              "    .colab-df-convert {\n",
              "      background-color: #E8F0FE;\n",
              "      border: none;\n",
              "      border-radius: 50%;\n",
              "      cursor: pointer;\n",
              "      display: none;\n",
              "      fill: #1967D2;\n",
              "      height: 32px;\n",
              "      padding: 0 0 0 0;\n",
              "      width: 32px;\n",
              "    }\n",
              "\n",
              "    .colab-df-convert:hover {\n",
              "      background-color: #E2EBFA;\n",
              "      box-shadow: 0px 1px 2px rgba(60, 64, 67, 0.3), 0px 1px 3px 1px rgba(60, 64, 67, 0.15);\n",
              "      fill: #174EA6;\n",
              "    }\n",
              "\n",
              "    [theme=dark] .colab-df-convert {\n",
              "      background-color: #3B4455;\n",
              "      fill: #D2E3FC;\n",
              "    }\n",
              "\n",
              "    [theme=dark] .colab-df-convert:hover {\n",
              "      background-color: #434B5C;\n",
              "      box-shadow: 0px 1px 3px 1px rgba(0, 0, 0, 0.15);\n",
              "      filter: drop-shadow(0px 1px 2px rgba(0, 0, 0, 0.3));\n",
              "      fill: #FFFFFF;\n",
              "    }\n",
              "  </style>\n",
              "\n",
              "      <script>\n",
              "        const buttonEl =\n",
              "          document.querySelector('#df-6d365d97-141a-4ac7-9991-aa10653938e0 button.colab-df-convert');\n",
              "        buttonEl.style.display =\n",
              "          google.colab.kernel.accessAllowed ? 'block' : 'none';\n",
              "\n",
              "        async function convertToInteractive(key) {\n",
              "          const element = document.querySelector('#df-6d365d97-141a-4ac7-9991-aa10653938e0');\n",
              "          const dataTable =\n",
              "            await google.colab.kernel.invokeFunction('convertToInteractive',\n",
              "                                                     [key], {});\n",
              "          if (!dataTable) return;\n",
              "\n",
              "          const docLinkHtml = 'Like what you see? Visit the ' +\n",
              "            '<a target=\"_blank\" href=https://colab.research.google.com/notebooks/data_table.ipynb>data table notebook</a>'\n",
              "            + ' to learn more about interactive tables.';\n",
              "          element.innerHTML = '';\n",
              "          dataTable['output_type'] = 'display_data';\n",
              "          await google.colab.output.renderOutput(dataTable, element);\n",
              "          const docLink = document.createElement('div');\n",
              "          docLink.innerHTML = docLinkHtml;\n",
              "          element.appendChild(docLink);\n",
              "        }\n",
              "      </script>\n",
              "    </div>\n",
              "  </div>\n",
              "  "
            ]
          },
          "metadata": {},
          "execution_count": 19
        }
      ]
    },
    {
      "cell_type": "code",
      "source": [
        "cycle_df = pd.read_csv('discharge.csv').drop(['datetime','time','capacity','ambient_temperature'],axis=1)\n",
        "\n",
        "for col in ( ['voltage_measured',\t'current_measured',\t'temperature_measured',\t'current_load',\t'voltage_load' ] ):\n",
        "  cycle_df[col] = ( cycle_df[col] - cycle_df[col].mean() ) /  cycle_df[col].std()\n",
        "  #cycle_df[col] = ( cycle_df[col] - cycle_df[col].min()  ) / ( cycle_df[col].max() - cycle_df[col].min() )\n",
        "cycle_df"
      ],
      "metadata": {
        "colab": {
          "base_uri": "https://localhost:8080/",
          "height": 424
        },
        "id": "3s3W89drp1mr",
        "outputId": "3f3e6ba5-7a17-4d77-def3-dda1a0e47550"
      },
      "execution_count": null,
      "outputs": [
        {
          "output_type": "execute_result",
          "data": {
            "text/plain": [
              "       cycle  voltage_measured  current_measured  temperature_measured  \\\n",
              "0          1          2.917555          2.950247             -2.128382   \n",
              "1          1          2.914351          2.955855             -2.129396   \n",
              "2          1          1.982949         -0.338241             -2.113573   \n",
              "3          1          1.883051         -0.340618             -2.074535   \n",
              "4          1          1.808133         -0.335973             -2.027730   \n",
              "...      ...               ...               ...                   ...   \n",
              "50280    168          0.276104          2.955705              0.513561   \n",
              "50281    168          0.287762          2.953252              0.501008   \n",
              "50282    168          0.298633          2.953232              0.466272   \n",
              "50283    168          0.310938          2.960272              0.438516   \n",
              "50284    168          0.322162          2.957320              0.398476   \n",
              "\n",
              "       current_load  voltage_load  \n",
              "0         -1.037758     -2.884425  \n",
              "1         -1.037758      2.371103  \n",
              "2         -2.558350      0.941639  \n",
              "3         -2.558350      0.901654  \n",
              "4         -2.558350      0.877913  \n",
              "...             ...           ...  \n",
              "50280     -1.036844     -2.884425  \n",
              "50281     -1.036844     -2.884425  \n",
              "50282     -1.036844     -2.884425  \n",
              "50283     -1.036844     -2.884425  \n",
              "50284     -1.036844     -2.884425  \n",
              "\n",
              "[50285 rows x 6 columns]"
            ],
            "text/html": [
              "\n",
              "  <div id=\"df-8a4bf1c4-5d42-4e22-b580-dc96508e6c44\">\n",
              "    <div class=\"colab-df-container\">\n",
              "      <div>\n",
              "<style scoped>\n",
              "    .dataframe tbody tr th:only-of-type {\n",
              "        vertical-align: middle;\n",
              "    }\n",
              "\n",
              "    .dataframe tbody tr th {\n",
              "        vertical-align: top;\n",
              "    }\n",
              "\n",
              "    .dataframe thead th {\n",
              "        text-align: right;\n",
              "    }\n",
              "</style>\n",
              "<table border=\"1\" class=\"dataframe\">\n",
              "  <thead>\n",
              "    <tr style=\"text-align: right;\">\n",
              "      <th></th>\n",
              "      <th>cycle</th>\n",
              "      <th>voltage_measured</th>\n",
              "      <th>current_measured</th>\n",
              "      <th>temperature_measured</th>\n",
              "      <th>current_load</th>\n",
              "      <th>voltage_load</th>\n",
              "    </tr>\n",
              "  </thead>\n",
              "  <tbody>\n",
              "    <tr>\n",
              "      <th>0</th>\n",
              "      <td>1</td>\n",
              "      <td>2.917555</td>\n",
              "      <td>2.950247</td>\n",
              "      <td>-2.128382</td>\n",
              "      <td>-1.037758</td>\n",
              "      <td>-2.884425</td>\n",
              "    </tr>\n",
              "    <tr>\n",
              "      <th>1</th>\n",
              "      <td>1</td>\n",
              "      <td>2.914351</td>\n",
              "      <td>2.955855</td>\n",
              "      <td>-2.129396</td>\n",
              "      <td>-1.037758</td>\n",
              "      <td>2.371103</td>\n",
              "    </tr>\n",
              "    <tr>\n",
              "      <th>2</th>\n",
              "      <td>1</td>\n",
              "      <td>1.982949</td>\n",
              "      <td>-0.338241</td>\n",
              "      <td>-2.113573</td>\n",
              "      <td>-2.558350</td>\n",
              "      <td>0.941639</td>\n",
              "    </tr>\n",
              "    <tr>\n",
              "      <th>3</th>\n",
              "      <td>1</td>\n",
              "      <td>1.883051</td>\n",
              "      <td>-0.340618</td>\n",
              "      <td>-2.074535</td>\n",
              "      <td>-2.558350</td>\n",
              "      <td>0.901654</td>\n",
              "    </tr>\n",
              "    <tr>\n",
              "      <th>4</th>\n",
              "      <td>1</td>\n",
              "      <td>1.808133</td>\n",
              "      <td>-0.335973</td>\n",
              "      <td>-2.027730</td>\n",
              "      <td>-2.558350</td>\n",
              "      <td>0.877913</td>\n",
              "    </tr>\n",
              "    <tr>\n",
              "      <th>...</th>\n",
              "      <td>...</td>\n",
              "      <td>...</td>\n",
              "      <td>...</td>\n",
              "      <td>...</td>\n",
              "      <td>...</td>\n",
              "      <td>...</td>\n",
              "    </tr>\n",
              "    <tr>\n",
              "      <th>50280</th>\n",
              "      <td>168</td>\n",
              "      <td>0.276104</td>\n",
              "      <td>2.955705</td>\n",
              "      <td>0.513561</td>\n",
              "      <td>-1.036844</td>\n",
              "      <td>-2.884425</td>\n",
              "    </tr>\n",
              "    <tr>\n",
              "      <th>50281</th>\n",
              "      <td>168</td>\n",
              "      <td>0.287762</td>\n",
              "      <td>2.953252</td>\n",
              "      <td>0.501008</td>\n",
              "      <td>-1.036844</td>\n",
              "      <td>-2.884425</td>\n",
              "    </tr>\n",
              "    <tr>\n",
              "      <th>50282</th>\n",
              "      <td>168</td>\n",
              "      <td>0.298633</td>\n",
              "      <td>2.953232</td>\n",
              "      <td>0.466272</td>\n",
              "      <td>-1.036844</td>\n",
              "      <td>-2.884425</td>\n",
              "    </tr>\n",
              "    <tr>\n",
              "      <th>50283</th>\n",
              "      <td>168</td>\n",
              "      <td>0.310938</td>\n",
              "      <td>2.960272</td>\n",
              "      <td>0.438516</td>\n",
              "      <td>-1.036844</td>\n",
              "      <td>-2.884425</td>\n",
              "    </tr>\n",
              "    <tr>\n",
              "      <th>50284</th>\n",
              "      <td>168</td>\n",
              "      <td>0.322162</td>\n",
              "      <td>2.957320</td>\n",
              "      <td>0.398476</td>\n",
              "      <td>-1.036844</td>\n",
              "      <td>-2.884425</td>\n",
              "    </tr>\n",
              "  </tbody>\n",
              "</table>\n",
              "<p>50285 rows × 6 columns</p>\n",
              "</div>\n",
              "      <button class=\"colab-df-convert\" onclick=\"convertToInteractive('df-8a4bf1c4-5d42-4e22-b580-dc96508e6c44')\"\n",
              "              title=\"Convert this dataframe to an interactive table.\"\n",
              "              style=\"display:none;\">\n",
              "        \n",
              "  <svg xmlns=\"http://www.w3.org/2000/svg\" height=\"24px\"viewBox=\"0 0 24 24\"\n",
              "       width=\"24px\">\n",
              "    <path d=\"M0 0h24v24H0V0z\" fill=\"none\"/>\n",
              "    <path d=\"M18.56 5.44l.94 2.06.94-2.06 2.06-.94-2.06-.94-.94-2.06-.94 2.06-2.06.94zm-11 1L8.5 8.5l.94-2.06 2.06-.94-2.06-.94L8.5 2.5l-.94 2.06-2.06.94zm10 10l.94 2.06.94-2.06 2.06-.94-2.06-.94-.94-2.06-.94 2.06-2.06.94z\"/><path d=\"M17.41 7.96l-1.37-1.37c-.4-.4-.92-.59-1.43-.59-.52 0-1.04.2-1.43.59L10.3 9.45l-7.72 7.72c-.78.78-.78 2.05 0 2.83L4 21.41c.39.39.9.59 1.41.59.51 0 1.02-.2 1.41-.59l7.78-7.78 2.81-2.81c.8-.78.8-2.07 0-2.86zM5.41 20L4 18.59l7.72-7.72 1.47 1.35L5.41 20z\"/>\n",
              "  </svg>\n",
              "      </button>\n",
              "      \n",
              "  <style>\n",
              "    .colab-df-container {\n",
              "      display:flex;\n",
              "      flex-wrap:wrap;\n",
              "      gap: 12px;\n",
              "    }\n",
              "\n",
              "    .colab-df-convert {\n",
              "      background-color: #E8F0FE;\n",
              "      border: none;\n",
              "      border-radius: 50%;\n",
              "      cursor: pointer;\n",
              "      display: none;\n",
              "      fill: #1967D2;\n",
              "      height: 32px;\n",
              "      padding: 0 0 0 0;\n",
              "      width: 32px;\n",
              "    }\n",
              "\n",
              "    .colab-df-convert:hover {\n",
              "      background-color: #E2EBFA;\n",
              "      box-shadow: 0px 1px 2px rgba(60, 64, 67, 0.3), 0px 1px 3px 1px rgba(60, 64, 67, 0.15);\n",
              "      fill: #174EA6;\n",
              "    }\n",
              "\n",
              "    [theme=dark] .colab-df-convert {\n",
              "      background-color: #3B4455;\n",
              "      fill: #D2E3FC;\n",
              "    }\n",
              "\n",
              "    [theme=dark] .colab-df-convert:hover {\n",
              "      background-color: #434B5C;\n",
              "      box-shadow: 0px 1px 3px 1px rgba(0, 0, 0, 0.15);\n",
              "      filter: drop-shadow(0px 1px 2px rgba(0, 0, 0, 0.3));\n",
              "      fill: #FFFFFF;\n",
              "    }\n",
              "  </style>\n",
              "\n",
              "      <script>\n",
              "        const buttonEl =\n",
              "          document.querySelector('#df-8a4bf1c4-5d42-4e22-b580-dc96508e6c44 button.colab-df-convert');\n",
              "        buttonEl.style.display =\n",
              "          google.colab.kernel.accessAllowed ? 'block' : 'none';\n",
              "\n",
              "        async function convertToInteractive(key) {\n",
              "          const element = document.querySelector('#df-8a4bf1c4-5d42-4e22-b580-dc96508e6c44');\n",
              "          const dataTable =\n",
              "            await google.colab.kernel.invokeFunction('convertToInteractive',\n",
              "                                                     [key], {});\n",
              "          if (!dataTable) return;\n",
              "\n",
              "          const docLinkHtml = 'Like what you see? Visit the ' +\n",
              "            '<a target=\"_blank\" href=https://colab.research.google.com/notebooks/data_table.ipynb>data table notebook</a>'\n",
              "            + ' to learn more about interactive tables.';\n",
              "          element.innerHTML = '';\n",
              "          dataTable['output_type'] = 'display_data';\n",
              "          await google.colab.output.renderOutput(dataTable, element);\n",
              "          const docLink = document.createElement('div');\n",
              "          docLink.innerHTML = docLinkHtml;\n",
              "          element.appendChild(docLink);\n",
              "        }\n",
              "      </script>\n",
              "    </div>\n",
              "  </div>\n",
              "  "
            ]
          },
          "metadata": {},
          "execution_count": 21
        }
      ]
    },
    {
      "cell_type": "code",
      "source": [
        "x_dat = []\n",
        "\n",
        "for i in range(1,169):\n",
        "  temp = cycle_df.loc[cycle_df['cycle'] == i]\n",
        "  temp = temp.to_numpy()[:,1:]\n",
        "  if(temp.shape[0] == 0):\n",
        "    print(i,temp.shape)\n",
        "  x_dat.append(temp)\n",
        "\n",
        "#x_dat = tf.ragged.stack(x_dat)"
      ],
      "metadata": {
        "id": "qXZSWHHiyq4a"
      },
      "execution_count": null,
      "outputs": []
    },
    {
      "cell_type": "markdown",
      "source": [
        "#Data Preprocess"
      ],
      "metadata": {
        "id": "tJLR00EQMcgR"
      }
    },
    {
      "cell_type": "code",
      "source": [
        "class DataGenerator(keras.utils.Sequence):\n",
        "\n",
        "    def __init__(self, dat, batch_size=1, dim=5,shuffle=True):\n",
        "        self.dat          = dat\n",
        "        self.dim          = dim\n",
        "        self.batch_size   = batch_size\n",
        "        self.shuffle      = shuffle\n",
        "        self.order        = [ i for i in range(len(self.dat)) ]\n",
        "        self.on_epoch_end()\n",
        "\n",
        "    def __len__(self):\n",
        "        return int(np.floor(len(self.dat) / self.batch_size))\n",
        "\n",
        "    def __getitem__(self,index):\n",
        "        tensor = np.expand_dims(self.dat[(self.order[index])],axis=0)\n",
        "        return [tensor,tensor.shape[1]], tensor\n",
        "\n",
        "    def on_epoch_end(self):\n",
        "        if self.shuffle == True:\n",
        "            random.shuffle(self.order)\n",
        "\n",
        "train_gen = DataGenerator(x_dat)\n",
        "train_gen.__getitem__(0)[0][1]"
      ],
      "metadata": {
        "colab": {
          "base_uri": "https://localhost:8080/"
        },
        "id": "zreW_yCI6aHS",
        "outputId": "3251aef6-5840-4bac-9077-654f39d06abb"
      },
      "execution_count": null,
      "outputs": [
        {
          "output_type": "execute_result",
          "data": {
            "text/plain": [
              "301"
            ]
          },
          "metadata": {},
          "execution_count": 24
        }
      ]
    },
    {
      "cell_type": "markdown",
      "source": [
        "#Encoder Model"
      ],
      "metadata": {
        "id": "Y8-gbrbdheWi"
      }
    },
    {
      "cell_type": "code",
      "source": [
        "latent_features = 16\n",
        "internal_features = 64\n",
        "act = 'swish'\n",
        "\n",
        "input_layer = keras.layers.Input(shape=(None,5))\n",
        "dense       = keras.layers.TimeDistributed(keras.layers.Dense(internal_features))(input_layer)\n",
        "lstm        = keras.layers.Bidirectional(keras.layers.LSTM(internal_features,return_sequences=True),merge_mode=\"ave\")(dense)\n",
        "lstm        = keras.layers.Bidirectional(keras.layers.LSTM(internal_features),merge_mode=\"ave\")(lstm)\n",
        "out         = keras.layers.Dense(latent_features,activation=act)(lstm)\n",
        "\n",
        "SeriesEncoder = keras.models.Model(inputs=input_layer, outputs=out)\n",
        "SeriesEncoder.compile(optimizer = 'adam', loss = 'mean_squared_error')\n",
        "SeriesEncoder.summary()"
      ],
      "metadata": {
        "colab": {
          "base_uri": "https://localhost:8080/"
        },
        "id": "I7wJcZ4bhdYo",
        "outputId": "75210458-53c3-4901-d53c-3a516afaa49b"
      },
      "execution_count": null,
      "outputs": [
        {
          "output_type": "stream",
          "name": "stdout",
          "text": [
            "Model: \"model_44\"\n",
            "_________________________________________________________________\n",
            " Layer (type)                Output Shape              Param #   \n",
            "=================================================================\n",
            " input_48 (InputLayer)       [(None, None, 5)]         0         \n",
            "                                                                 \n",
            " time_distributed_43 (TimeDi  (None, None, 64)         384       \n",
            " stributed)                                                      \n",
            "                                                                 \n",
            " bidirectional_45 (Bidirecti  (None, None, 64)         66048     \n",
            " onal)                                                           \n",
            "                                                                 \n",
            " bidirectional_46 (Bidirecti  (None, 64)               66048     \n",
            " onal)                                                           \n",
            "                                                                 \n",
            " dense_57 (Dense)            (None, 16)                1040      \n",
            "                                                                 \n",
            "=================================================================\n",
            "Total params: 133,520\n",
            "Trainable params: 133,520\n",
            "Non-trainable params: 0\n",
            "_________________________________________________________________\n"
          ]
        }
      ]
    },
    {
      "cell_type": "markdown",
      "source": [
        "#Decoder Model"
      ],
      "metadata": {
        "id": "oNLOhL43hmxE"
      }
    },
    {
      "cell_type": "code",
      "source": [
        "input_layer = keras.layers.Input(shape=(None,latent_features))\n",
        "\n",
        "dense = keras.layers.TimeDistributed(keras.layers.Dense(internal_features,activation=act))(input_layer)\n",
        "lstm  = keras.layers.Bidirectional(keras.layers.LSTM(internal_features,return_sequences=True),merge_mode=\"ave\")(dense)\n",
        "lstm  = keras.layers.Bidirectional(keras.layers.LSTM(internal_features,return_sequences=True),merge_mode=\"ave\")(lstm)\n",
        "dense = keras.layers.TimeDistributed(keras.layers.Dense(internal_features,activation=act))(lstm)\n",
        "out   = keras.layers.TimeDistributed(keras.layers.Dense(5))(dense)\n",
        "\n",
        "SeriesDecoder = keras.models.Model(inputs=input_layer, outputs=out)\n",
        "SeriesDecoder.compile(optimizer = 'adam', loss = 'mean_squared_error')\n",
        "\n",
        "SeriesDecoder.summary()"
      ],
      "metadata": {
        "colab": {
          "base_uri": "https://localhost:8080/"
        },
        "id": "czAyyYq1hpay",
        "outputId": "8f0b36ac-0acb-4262-df4e-f5402d7f9201"
      },
      "execution_count": null,
      "outputs": [
        {
          "output_type": "stream",
          "name": "stdout",
          "text": [
            "Model: \"model_45\"\n",
            "_________________________________________________________________\n",
            " Layer (type)                Output Shape              Param #   \n",
            "=================================================================\n",
            " input_49 (InputLayer)       [(None, None, 16)]        0         \n",
            "                                                                 \n",
            " time_distributed_44 (TimeDi  (None, None, 64)         1088      \n",
            " stributed)                                                      \n",
            "                                                                 \n",
            " bidirectional_47 (Bidirecti  (None, None, 64)         66048     \n",
            " onal)                                                           \n",
            "                                                                 \n",
            " bidirectional_48 (Bidirecti  (None, None, 64)         66048     \n",
            " onal)                                                           \n",
            "                                                                 \n",
            " time_distributed_45 (TimeDi  (None, None, 64)         4160      \n",
            " stributed)                                                      \n",
            "                                                                 \n",
            " time_distributed_46 (TimeDi  (None, None, 5)          325       \n",
            " stributed)                                                      \n",
            "                                                                 \n",
            "=================================================================\n",
            "Total params: 137,669\n",
            "Trainable params: 137,669\n",
            "Non-trainable params: 0\n",
            "_________________________________________________________________\n"
          ]
        }
      ]
    },
    {
      "cell_type": "markdown",
      "source": [
        "#Train Loop"
      ],
      "metadata": {
        "id": "HV96nwlaxjlF"
      }
    },
    {
      "cell_type": "code",
      "source": [
        "train_acc_metric  = keras.metrics.MeanAbsoluteError()\n",
        "loss_fn           = keras.metrics.MeanSquaredError()\n",
        "optimizer         = keras.optimizers.SGD( learning_rate = 0.001 , decay = 10e-5 )\n",
        "optimizer"
      ],
      "metadata": {
        "colab": {
          "base_uri": "https://localhost:8080/"
        },
        "id": "Wiy9veJxc_2v",
        "outputId": "aa3b2d1d-65b8-4dc9-e35d-7047f679c85e"
      },
      "execution_count": null,
      "outputs": [
        {
          "output_type": "execute_result",
          "data": {
            "text/plain": [
              "<keras.optimizer_v2.gradient_descent.SGD at 0x7fde30fb5d90>"
            ]
          },
          "metadata": {},
          "execution_count": 177
        }
      ]
    },
    {
      "cell_type": "code",
      "source": [
        "def mse_loss(y_true,y_pred):\n",
        "  return tf.reduce_mean( tf.square( y_true - y_pred + 10e-10 ) )\n",
        "\n",
        "def mae_loss(y_true,y_pred):\n",
        "  return tf.reduce_mean( tf.abs( y_true - y_pred + 10e-10 ) )\n",
        "\n",
        "\n",
        "def kl_divergence(y_true,y_pred):\n",
        "  return tf.reduce_mean( y_true * tf.math.log( tf.abs( ( y_true ) / ( y_pred + 10e-10 ) ) +10e-10 ) ) / 10.\n",
        "\n",
        "def reverse_kl_divergence(y_true,y_pred):\n",
        "  return tf.reduce_mean( y_pred * tf.math.log( tf.abs( ( y_true ) / ( y_pred + 10e-10 ) ) +10e-10 ) ) \n",
        "\n",
        "def wasserstein_distance(y_true,y_pred):\n",
        "  y_pred = tf.cast( y_pred,tf.float32)\n",
        "  y_true = tf.cast( y_true,tf.float32)\n",
        "  true = tf.math.cumsum( y_true, axis = 1 )\n",
        "  pred = tf.math.cumsum( y_pred, axis = 1 )\n",
        "  return tf.reduce_mean( tf.abs( true - pred ) )\n"
      ],
      "metadata": {
        "id": "b2itJynGSiCa"
      },
      "execution_count": null,
      "outputs": []
    },
    {
      "cell_type": "code",
      "source": [
        "yt = np.array([ 3., 2., 1., 4.,3., 2., 1., 4.,3., 2., 1., 4.,3., 2., 1., 4.,3., 2., 1., 4. ]).reshape((1,4,5))\n",
        "yp = np.array([ 1., 2., 4., 3.,1., 2., 4., 3.,1., 2., 4., 3.,1., 2., 4., 3.,1., 2., 4., 3. ]).reshape((1,4,5))\n",
        "\n",
        "wasserstein_distance(yt,yp)"
      ],
      "metadata": {
        "colab": {
          "base_uri": "https://localhost:8080/"
        },
        "id": "mZaOwXAv9Ol0",
        "outputId": "b0073a74-7539-45b5-e76c-65fe47c45687"
      },
      "execution_count": null,
      "outputs": [
        {
          "output_type": "execute_result",
          "data": {
            "text/plain": [
              "<tf.Tensor: shape=(), dtype=float32, numpy=1.35>"
            ]
          },
          "metadata": {},
          "execution_count": 163
        }
      ]
    },
    {
      "cell_type": "code",
      "source": [
        "import time\n",
        "\n",
        "epochs = 100\n",
        "for epoch in range(epochs):\n",
        "    print(\"\\nStart of epoch %d\" % (epoch,))\n",
        "    start_time = time.time()\n",
        "\n",
        "\n",
        "    for step in range(len(x_dat)):\n",
        "        x_batch_train,y_batch_train = train_gen.__getitem__(step)\n",
        "        xb_train, xb_int = x_batch_train\n",
        "\n",
        "        with tf.GradientTape(persistent=True) as tape:\n",
        "            features = SeriesEncoder(xb_train, training=True)\n",
        "            features = keras.layers.RepeatVector(xb_int)(features)\n",
        "            logits   = SeriesDecoder(features, training=True)\n",
        "            loss_value = mae_loss(y_batch_train, logits)\n",
        "\n",
        "\n",
        "        grads1 = tape.gradient(loss_value, SeriesEncoder.trainable_weights)\n",
        "        grads2 = tape.gradient(loss_value, SeriesDecoder.trainable_weights)\n",
        "\n",
        "        optimizer.apply_gradients(zip(grads1, SeriesEncoder.trainable_weights))\n",
        "        optimizer.apply_gradients(zip(grads2, SeriesDecoder.trainable_weights))\n",
        "        if step%10==0:\n",
        "            print('.',end='')\n",
        "\n",
        " \n",
        "    if 1 % 1 == 0:\n",
        "        print()\n",
        "        print(\"Training loss (for one batch) at step %d: %.4f\"% (step, float(loss_value)))\n",
        "        print(\"Seen so far: %d samples\" % ((step + 1) * 1))\n",
        "\n",
        "\n",
        "    train_mae = mae_loss(y_batch_train, logits)\n",
        "    print(\"Training mae over epoch: %.4f\" % (float(train_mae)))\n",
        "\n",
        "    continue\n",
        "\n",
        "    # Run a validation loop at the end of each epoch.\n",
        "    for x_batch_val, y_batch_val in val_dataset:\n",
        "        val_logits = model(x_batch_val, training=False)\n",
        "        val_acc_metric.update_state(y_batch_val, val_logits)\n",
        "    val_acc = val_acc_metric.result()\n",
        "    val_acc_metric.reset_states()\n",
        "    print(\"Validation acc: %.4f\" % (float(val_acc),))\n",
        "    print(\"Time taken: %.2fs\" % (time.time() - start_time))"
      ],
      "metadata": {
        "colab": {
          "base_uri": "https://localhost:8080/",
          "height": 1000
        },
        "id": "lb-ElIpXmT0T",
        "outputId": "03f98d70-f046-499e-ec4a-fe2e25dd6e2a"
      },
      "execution_count": null,
      "outputs": [
        {
          "output_type": "stream",
          "name": "stdout",
          "text": [
            "\n",
            "Start of epoch 0\n",
            ".................\n",
            "Training loss (for one batch) at step 167: 0.7315\n",
            "Seen so far: 168 samples\n",
            "Training mae over epoch: 0.7315\n",
            "\n",
            "Start of epoch 1\n",
            ".................\n",
            "Training loss (for one batch) at step 167: 0.7211\n",
            "Seen so far: 168 samples\n",
            "Training mae over epoch: 0.7211\n",
            "\n",
            "Start of epoch 2\n",
            ".................\n",
            "Training loss (for one batch) at step 167: 0.7114\n",
            "Seen so far: 168 samples\n",
            "Training mae over epoch: 0.7114\n",
            "\n",
            "Start of epoch 3\n",
            ".................\n",
            "Training loss (for one batch) at step 167: 0.7024\n",
            "Seen so far: 168 samples\n",
            "Training mae over epoch: 0.7024\n",
            "\n",
            "Start of epoch 4\n",
            ".................\n",
            "Training loss (for one batch) at step 167: 0.6941\n",
            "Seen so far: 168 samples\n",
            "Training mae over epoch: 0.6941\n",
            "\n",
            "Start of epoch 5\n",
            ".................\n",
            "Training loss (for one batch) at step 167: 0.6863\n",
            "Seen so far: 168 samples\n",
            "Training mae over epoch: 0.6863\n",
            "\n",
            "Start of epoch 6\n",
            ".................\n",
            "Training loss (for one batch) at step 167: 0.6790\n",
            "Seen so far: 168 samples\n",
            "Training mae over epoch: 0.6790\n",
            "\n",
            "Start of epoch 7\n",
            ".................\n",
            "Training loss (for one batch) at step 167: 0.6720\n",
            "Seen so far: 168 samples\n",
            "Training mae over epoch: 0.6720\n",
            "\n",
            "Start of epoch 8\n",
            ".................\n",
            "Training loss (for one batch) at step 167: 0.6654\n",
            "Seen so far: 168 samples\n",
            "Training mae over epoch: 0.6654\n",
            "\n",
            "Start of epoch 9\n",
            ".................\n",
            "Training loss (for one batch) at step 167: 0.6603\n",
            "Seen so far: 168 samples\n",
            "Training mae over epoch: 0.6603\n",
            "\n",
            "Start of epoch 10\n",
            ".................\n",
            "Training loss (for one batch) at step 167: 0.6580\n",
            "Seen so far: 168 samples\n",
            "Training mae over epoch: 0.6580\n",
            "\n",
            "Start of epoch 11\n",
            ".................\n",
            "Training loss (for one batch) at step 167: 0.6558\n",
            "Seen so far: 168 samples\n",
            "Training mae over epoch: 0.6558\n",
            "\n",
            "Start of epoch 12\n",
            ".................\n",
            "Training loss (for one batch) at step 167: 0.6536\n",
            "Seen so far: 168 samples\n",
            "Training mae over epoch: 0.6536\n",
            "\n",
            "Start of epoch 13\n",
            ".................\n",
            "Training loss (for one batch) at step 167: 0.6515\n",
            "Seen so far: 168 samples\n",
            "Training mae over epoch: 0.6515\n",
            "\n",
            "Start of epoch 14\n",
            ".................\n",
            "Training loss (for one batch) at step 167: 0.6494\n",
            "Seen so far: 168 samples\n",
            "Training mae over epoch: 0.6494\n",
            "\n",
            "Start of epoch 15\n",
            ".................\n",
            "Training loss (for one batch) at step 167: 0.6474\n",
            "Seen so far: 168 samples\n",
            "Training mae over epoch: 0.6474\n",
            "\n",
            "Start of epoch 16\n",
            ".................\n",
            "Training loss (for one batch) at step 167: 0.6454\n",
            "Seen so far: 168 samples\n",
            "Training mae over epoch: 0.6454\n",
            "\n",
            "Start of epoch 17\n",
            ".................\n",
            "Training loss (for one batch) at step 167: 0.6434\n",
            "Seen so far: 168 samples\n",
            "Training mae over epoch: 0.6434\n",
            "\n",
            "Start of epoch 18\n",
            ".................\n",
            "Training loss (for one batch) at step 167: 0.6414\n",
            "Seen so far: 168 samples\n",
            "Training mae over epoch: 0.6414\n",
            "\n",
            "Start of epoch 19\n",
            ".................\n",
            "Training loss (for one batch) at step 167: 0.6395\n",
            "Seen so far: 168 samples\n",
            "Training mae over epoch: 0.6395\n",
            "\n",
            "Start of epoch 20\n",
            ".................\n",
            "Training loss (for one batch) at step 167: 0.6376\n",
            "Seen so far: 168 samples\n",
            "Training mae over epoch: 0.6376\n",
            "\n",
            "Start of epoch 21\n",
            ".................\n",
            "Training loss (for one batch) at step 167: 0.6358\n",
            "Seen so far: 168 samples\n",
            "Training mae over epoch: 0.6358\n",
            "\n",
            "Start of epoch 22\n",
            ".................\n",
            "Training loss (for one batch) at step 167: 0.6339\n",
            "Seen so far: 168 samples\n",
            "Training mae over epoch: 0.6339\n",
            "\n",
            "Start of epoch 23\n",
            ".................\n",
            "Training loss (for one batch) at step 167: 0.6321\n",
            "Seen so far: 168 samples\n",
            "Training mae over epoch: 0.6321\n",
            "\n",
            "Start of epoch 24\n",
            ".................\n",
            "Training loss (for one batch) at step 167: 0.6303\n",
            "Seen so far: 168 samples\n",
            "Training mae over epoch: 0.6303\n",
            "\n",
            "Start of epoch 25\n",
            ".................\n",
            "Training loss (for one batch) at step 167: 0.6286\n",
            "Seen so far: 168 samples\n",
            "Training mae over epoch: 0.6286\n",
            "\n",
            "Start of epoch 26\n",
            ".................\n",
            "Training loss (for one batch) at step 167: 0.6268\n",
            "Seen so far: 168 samples\n",
            "Training mae over epoch: 0.6268\n",
            "\n",
            "Start of epoch 27\n",
            ".................\n",
            "Training loss (for one batch) at step 167: 0.6251\n",
            "Seen so far: 168 samples\n",
            "Training mae over epoch: 0.6251\n",
            "\n",
            "Start of epoch 28\n",
            ".................\n",
            "Training loss (for one batch) at step 167: 0.6234\n",
            "Seen so far: 168 samples\n",
            "Training mae over epoch: 0.6234\n",
            "\n",
            "Start of epoch 29\n",
            ".................\n",
            "Training loss (for one batch) at step 167: 0.6230\n",
            "Seen so far: 168 samples\n",
            "Training mae over epoch: 0.6230\n",
            "\n",
            "Start of epoch 30\n",
            ".................\n",
            "Training loss (for one batch) at step 167: 0.6230\n",
            "Seen so far: 168 samples\n",
            "Training mae over epoch: 0.6230\n",
            "\n",
            "Start of epoch 31\n",
            ".................\n",
            "Training loss (for one batch) at step 167: 0.6230\n",
            "Seen so far: 168 samples\n",
            "Training mae over epoch: 0.6230\n",
            "\n",
            "Start of epoch 32\n",
            ".................\n",
            "Training loss (for one batch) at step 167: 0.6231\n",
            "Seen so far: 168 samples\n",
            "Training mae over epoch: 0.6231\n",
            "\n",
            "Start of epoch 33\n",
            ".................\n",
            "Training loss (for one batch) at step 167: 0.6231\n",
            "Seen so far: 168 samples\n",
            "Training mae over epoch: 0.6231\n",
            "\n",
            "Start of epoch 34\n",
            ".........."
          ]
        },
        {
          "output_type": "error",
          "ename": "KeyboardInterrupt",
          "evalue": "ignored",
          "traceback": [
            "\u001b[0;31m---------------------------------------------------------------------------\u001b[0m",
            "\u001b[0;31mKeyboardInterrupt\u001b[0m                         Traceback (most recent call last)",
            "\u001b[0;32m<ipython-input-179-1888e3e5ed2d>\u001b[0m in \u001b[0;36m<module>\u001b[0;34m()\u001b[0m\n\u001b[1;32m     21\u001b[0m         \u001b[0mgrads2\u001b[0m \u001b[0;34m=\u001b[0m \u001b[0mtape\u001b[0m\u001b[0;34m.\u001b[0m\u001b[0mgradient\u001b[0m\u001b[0;34m(\u001b[0m\u001b[0mloss_value\u001b[0m\u001b[0;34m,\u001b[0m \u001b[0mSeriesDecoder\u001b[0m\u001b[0;34m.\u001b[0m\u001b[0mtrainable_weights\u001b[0m\u001b[0;34m)\u001b[0m\u001b[0;34m\u001b[0m\u001b[0;34m\u001b[0m\u001b[0m\n\u001b[1;32m     22\u001b[0m \u001b[0;34m\u001b[0m\u001b[0m\n\u001b[0;32m---> 23\u001b[0;31m         \u001b[0moptimizer\u001b[0m\u001b[0;34m.\u001b[0m\u001b[0mapply_gradients\u001b[0m\u001b[0;34m(\u001b[0m\u001b[0mzip\u001b[0m\u001b[0;34m(\u001b[0m\u001b[0mgrads1\u001b[0m\u001b[0;34m,\u001b[0m \u001b[0mSeriesEncoder\u001b[0m\u001b[0;34m.\u001b[0m\u001b[0mtrainable_weights\u001b[0m\u001b[0;34m)\u001b[0m\u001b[0;34m)\u001b[0m\u001b[0;34m\u001b[0m\u001b[0;34m\u001b[0m\u001b[0m\n\u001b[0m\u001b[1;32m     24\u001b[0m         \u001b[0moptimizer\u001b[0m\u001b[0;34m.\u001b[0m\u001b[0mapply_gradients\u001b[0m\u001b[0;34m(\u001b[0m\u001b[0mzip\u001b[0m\u001b[0;34m(\u001b[0m\u001b[0mgrads2\u001b[0m\u001b[0;34m,\u001b[0m \u001b[0mSeriesDecoder\u001b[0m\u001b[0;34m.\u001b[0m\u001b[0mtrainable_weights\u001b[0m\u001b[0;34m)\u001b[0m\u001b[0;34m)\u001b[0m\u001b[0;34m\u001b[0m\u001b[0;34m\u001b[0m\u001b[0m\n\u001b[1;32m     25\u001b[0m         \u001b[0;32mif\u001b[0m \u001b[0mstep\u001b[0m\u001b[0;34m%\u001b[0m\u001b[0;36m10\u001b[0m\u001b[0;34m==\u001b[0m\u001b[0;36m0\u001b[0m\u001b[0;34m:\u001b[0m\u001b[0;34m\u001b[0m\u001b[0;34m\u001b[0m\u001b[0m\n",
            "\u001b[0;32m/usr/local/lib/python3.7/dist-packages/keras/optimizer_v2/optimizer_v2.py\u001b[0m in \u001b[0;36mapply_gradients\u001b[0;34m(self, grads_and_vars, name, experimental_aggregate_gradients)\u001b[0m\n\u001b[1;32m    673\u001b[0m           \u001b[0mstrategy\u001b[0m\u001b[0;34m,\u001b[0m\u001b[0;34m\u001b[0m\u001b[0;34m\u001b[0m\u001b[0m\n\u001b[1;32m    674\u001b[0m           \u001b[0mgrads_and_vars\u001b[0m\u001b[0;34m,\u001b[0m\u001b[0;34m\u001b[0m\u001b[0;34m\u001b[0m\u001b[0m\n\u001b[0;32m--> 675\u001b[0;31m           name=name)\n\u001b[0m\u001b[1;32m    676\u001b[0m \u001b[0;34m\u001b[0m\u001b[0m\n\u001b[1;32m    677\u001b[0m   \u001b[0;32mdef\u001b[0m \u001b[0m_distributed_apply\u001b[0m\u001b[0;34m(\u001b[0m\u001b[0mself\u001b[0m\u001b[0;34m,\u001b[0m \u001b[0mdistribution\u001b[0m\u001b[0;34m,\u001b[0m \u001b[0mgrads_and_vars\u001b[0m\u001b[0;34m,\u001b[0m \u001b[0mapply_state\u001b[0m\u001b[0;34m,\u001b[0m \u001b[0mname\u001b[0m\u001b[0;34m)\u001b[0m\u001b[0;34m:\u001b[0m\u001b[0;34m\u001b[0m\u001b[0;34m\u001b[0m\u001b[0m\n",
            "\u001b[0;32m/usr/local/lib/python3.7/dist-packages/tensorflow/python/distribute/merge_call_interim.py\u001b[0m in \u001b[0;36mmaybe_merge_call\u001b[0;34m(fn, strategy, *args, **kwargs)\u001b[0m\n\u001b[1;32m     49\u001b[0m   \"\"\"\n\u001b[1;32m     50\u001b[0m   \u001b[0;32mif\u001b[0m \u001b[0mstrategy_supports_no_merge_call\u001b[0m\u001b[0;34m(\u001b[0m\u001b[0;34m)\u001b[0m\u001b[0;34m:\u001b[0m\u001b[0;34m\u001b[0m\u001b[0;34m\u001b[0m\u001b[0m\n\u001b[0;32m---> 51\u001b[0;31m     \u001b[0;32mreturn\u001b[0m \u001b[0mfn\u001b[0m\u001b[0;34m(\u001b[0m\u001b[0mstrategy\u001b[0m\u001b[0;34m,\u001b[0m \u001b[0;34m*\u001b[0m\u001b[0margs\u001b[0m\u001b[0;34m,\u001b[0m \u001b[0;34m**\u001b[0m\u001b[0mkwargs\u001b[0m\u001b[0;34m)\u001b[0m\u001b[0;34m\u001b[0m\u001b[0;34m\u001b[0m\u001b[0m\n\u001b[0m\u001b[1;32m     52\u001b[0m   \u001b[0;32melse\u001b[0m\u001b[0;34m:\u001b[0m\u001b[0;34m\u001b[0m\u001b[0;34m\u001b[0m\u001b[0m\n\u001b[1;32m     53\u001b[0m     return distribution_strategy_context.get_replica_context().merge_call(\n",
            "\u001b[0;32m/usr/local/lib/python3.7/dist-packages/keras/optimizer_v2/optimizer_v2.py\u001b[0m in \u001b[0;36m_distributed_apply\u001b[0;34m(self, distribution, grads_and_vars, apply_state, name)\u001b[0m\n\u001b[1;32m    715\u001b[0m               var.op.name):\n\u001b[1;32m    716\u001b[0m             update_op = distribution.extended.update(\n\u001b[0;32m--> 717\u001b[0;31m                 var, apply_grad_to_update_var, args=(grad,), group=False)\n\u001b[0m\u001b[1;32m    718\u001b[0m             \u001b[0;32mif\u001b[0m \u001b[0mtf\u001b[0m\u001b[0;34m.\u001b[0m\u001b[0mdistribute\u001b[0m\u001b[0;34m.\u001b[0m\u001b[0min_cross_replica_context\u001b[0m\u001b[0;34m(\u001b[0m\u001b[0;34m)\u001b[0m\u001b[0;34m:\u001b[0m\u001b[0;34m\u001b[0m\u001b[0;34m\u001b[0m\u001b[0m\n\u001b[1;32m    719\u001b[0m               \u001b[0;31m# In cross-replica context, extended.update returns a list of\u001b[0m\u001b[0;34m\u001b[0m\u001b[0;34m\u001b[0m\u001b[0;34m\u001b[0m\u001b[0m\n",
            "\u001b[0;32m/usr/local/lib/python3.7/dist-packages/tensorflow/python/distribute/distribute_lib.py\u001b[0m in \u001b[0;36mupdate\u001b[0;34m(self, var, fn, args, kwargs, group)\u001b[0m\n\u001b[1;32m   2628\u001b[0m           fn, autograph_ctx.control_status_ctx(), convert_by_default=False)\n\u001b[1;32m   2629\u001b[0m       \u001b[0;32mwith\u001b[0m \u001b[0mself\u001b[0m\u001b[0;34m.\u001b[0m\u001b[0m_container_strategy\u001b[0m\u001b[0;34m(\u001b[0m\u001b[0;34m)\u001b[0m\u001b[0;34m.\u001b[0m\u001b[0mscope\u001b[0m\u001b[0;34m(\u001b[0m\u001b[0;34m)\u001b[0m\u001b[0;34m:\u001b[0m\u001b[0;34m\u001b[0m\u001b[0;34m\u001b[0m\u001b[0m\n\u001b[0;32m-> 2630\u001b[0;31m         \u001b[0;32mreturn\u001b[0m \u001b[0mself\u001b[0m\u001b[0;34m.\u001b[0m\u001b[0m_update\u001b[0m\u001b[0;34m(\u001b[0m\u001b[0mvar\u001b[0m\u001b[0;34m,\u001b[0m \u001b[0mfn\u001b[0m\u001b[0;34m,\u001b[0m \u001b[0margs\u001b[0m\u001b[0;34m,\u001b[0m \u001b[0mkwargs\u001b[0m\u001b[0;34m,\u001b[0m \u001b[0mgroup\u001b[0m\u001b[0;34m)\u001b[0m\u001b[0;34m\u001b[0m\u001b[0;34m\u001b[0m\u001b[0m\n\u001b[0m\u001b[1;32m   2631\u001b[0m     \u001b[0;32melse\u001b[0m\u001b[0;34m:\u001b[0m\u001b[0;34m\u001b[0m\u001b[0;34m\u001b[0m\u001b[0m\n\u001b[1;32m   2632\u001b[0m       return self._replica_ctx_update(\n",
            "\u001b[0;32m/usr/local/lib/python3.7/dist-packages/tensorflow/python/distribute/distribute_lib.py\u001b[0m in \u001b[0;36m_update\u001b[0;34m(self, var, fn, args, kwargs, group)\u001b[0m\n\u001b[1;32m   3701\u001b[0m     \u001b[0;31m# The implementations of _update() and _update_non_slot() are identical\u001b[0m\u001b[0;34m\u001b[0m\u001b[0;34m\u001b[0m\u001b[0;34m\u001b[0m\u001b[0m\n\u001b[1;32m   3702\u001b[0m     \u001b[0;31m# except _update() passes `var` as the first argument to `fn()`.\u001b[0m\u001b[0;34m\u001b[0m\u001b[0;34m\u001b[0m\u001b[0;34m\u001b[0m\u001b[0m\n\u001b[0;32m-> 3703\u001b[0;31m     \u001b[0;32mreturn\u001b[0m \u001b[0mself\u001b[0m\u001b[0;34m.\u001b[0m\u001b[0m_update_non_slot\u001b[0m\u001b[0;34m(\u001b[0m\u001b[0mvar\u001b[0m\u001b[0;34m,\u001b[0m \u001b[0mfn\u001b[0m\u001b[0;34m,\u001b[0m \u001b[0;34m(\u001b[0m\u001b[0mvar\u001b[0m\u001b[0;34m,\u001b[0m\u001b[0;34m)\u001b[0m \u001b[0;34m+\u001b[0m \u001b[0mtuple\u001b[0m\u001b[0;34m(\u001b[0m\u001b[0margs\u001b[0m\u001b[0;34m)\u001b[0m\u001b[0;34m,\u001b[0m \u001b[0mkwargs\u001b[0m\u001b[0;34m,\u001b[0m \u001b[0mgroup\u001b[0m\u001b[0;34m)\u001b[0m\u001b[0;34m\u001b[0m\u001b[0;34m\u001b[0m\u001b[0m\n\u001b[0m\u001b[1;32m   3704\u001b[0m \u001b[0;34m\u001b[0m\u001b[0m\n\u001b[1;32m   3705\u001b[0m   \u001b[0;32mdef\u001b[0m \u001b[0m_update_non_slot\u001b[0m\u001b[0;34m(\u001b[0m\u001b[0mself\u001b[0m\u001b[0;34m,\u001b[0m \u001b[0mcolocate_with\u001b[0m\u001b[0;34m,\u001b[0m \u001b[0mfn\u001b[0m\u001b[0;34m,\u001b[0m \u001b[0margs\u001b[0m\u001b[0;34m,\u001b[0m \u001b[0mkwargs\u001b[0m\u001b[0;34m,\u001b[0m \u001b[0mshould_group\u001b[0m\u001b[0;34m)\u001b[0m\u001b[0;34m:\u001b[0m\u001b[0;34m\u001b[0m\u001b[0;34m\u001b[0m\u001b[0m\n",
            "\u001b[0;32m/usr/local/lib/python3.7/dist-packages/tensorflow/python/distribute/distribute_lib.py\u001b[0m in \u001b[0;36m_update_non_slot\u001b[0;34m(self, colocate_with, fn, args, kwargs, should_group)\u001b[0m\n\u001b[1;32m   3707\u001b[0m     \u001b[0;31m# once that value is used for something.\u001b[0m\u001b[0;34m\u001b[0m\u001b[0;34m\u001b[0m\u001b[0;34m\u001b[0m\u001b[0m\n\u001b[1;32m   3708\u001b[0m     \u001b[0;32mwith\u001b[0m \u001b[0mUpdateContext\u001b[0m\u001b[0;34m(\u001b[0m\u001b[0mcolocate_with\u001b[0m\u001b[0;34m)\u001b[0m\u001b[0;34m:\u001b[0m\u001b[0;34m\u001b[0m\u001b[0;34m\u001b[0m\u001b[0m\n\u001b[0;32m-> 3709\u001b[0;31m       \u001b[0mresult\u001b[0m \u001b[0;34m=\u001b[0m \u001b[0mfn\u001b[0m\u001b[0;34m(\u001b[0m\u001b[0;34m*\u001b[0m\u001b[0margs\u001b[0m\u001b[0;34m,\u001b[0m \u001b[0;34m**\u001b[0m\u001b[0mkwargs\u001b[0m\u001b[0;34m)\u001b[0m\u001b[0;34m\u001b[0m\u001b[0;34m\u001b[0m\u001b[0m\n\u001b[0m\u001b[1;32m   3710\u001b[0m       \u001b[0;32mif\u001b[0m \u001b[0mshould_group\u001b[0m\u001b[0;34m:\u001b[0m\u001b[0;34m\u001b[0m\u001b[0;34m\u001b[0m\u001b[0m\n\u001b[1;32m   3711\u001b[0m         \u001b[0;32mreturn\u001b[0m \u001b[0mresult\u001b[0m\u001b[0;34m\u001b[0m\u001b[0;34m\u001b[0m\u001b[0m\n",
            "\u001b[0;32m/usr/local/lib/python3.7/dist-packages/tensorflow/python/autograph/impl/api.py\u001b[0m in \u001b[0;36mwrapper\u001b[0;34m(*args, **kwargs)\u001b[0m\n\u001b[1;32m    593\u001b[0m   \u001b[0;32mdef\u001b[0m \u001b[0mwrapper\u001b[0m\u001b[0;34m(\u001b[0m\u001b[0;34m*\u001b[0m\u001b[0margs\u001b[0m\u001b[0;34m,\u001b[0m \u001b[0;34m**\u001b[0m\u001b[0mkwargs\u001b[0m\u001b[0;34m)\u001b[0m\u001b[0;34m:\u001b[0m\u001b[0;34m\u001b[0m\u001b[0;34m\u001b[0m\u001b[0m\n\u001b[1;32m    594\u001b[0m     \u001b[0;32mwith\u001b[0m \u001b[0mag_ctx\u001b[0m\u001b[0;34m.\u001b[0m\u001b[0mControlStatusCtx\u001b[0m\u001b[0;34m(\u001b[0m\u001b[0mstatus\u001b[0m\u001b[0;34m=\u001b[0m\u001b[0mag_ctx\u001b[0m\u001b[0;34m.\u001b[0m\u001b[0mStatus\u001b[0m\u001b[0;34m.\u001b[0m\u001b[0mUNSPECIFIED\u001b[0m\u001b[0;34m)\u001b[0m\u001b[0;34m:\u001b[0m\u001b[0;34m\u001b[0m\u001b[0;34m\u001b[0m\u001b[0m\n\u001b[0;32m--> 595\u001b[0;31m       \u001b[0;32mreturn\u001b[0m \u001b[0mfunc\u001b[0m\u001b[0;34m(\u001b[0m\u001b[0;34m*\u001b[0m\u001b[0margs\u001b[0m\u001b[0;34m,\u001b[0m \u001b[0;34m**\u001b[0m\u001b[0mkwargs\u001b[0m\u001b[0;34m)\u001b[0m\u001b[0;34m\u001b[0m\u001b[0;34m\u001b[0m\u001b[0m\n\u001b[0m\u001b[1;32m    596\u001b[0m \u001b[0;34m\u001b[0m\u001b[0m\n\u001b[1;32m    597\u001b[0m   \u001b[0;32mif\u001b[0m \u001b[0minspect\u001b[0m\u001b[0;34m.\u001b[0m\u001b[0misfunction\u001b[0m\u001b[0;34m(\u001b[0m\u001b[0mfunc\u001b[0m\u001b[0;34m)\u001b[0m \u001b[0;32mor\u001b[0m \u001b[0minspect\u001b[0m\u001b[0;34m.\u001b[0m\u001b[0mismethod\u001b[0m\u001b[0;34m(\u001b[0m\u001b[0mfunc\u001b[0m\u001b[0;34m)\u001b[0m\u001b[0;34m:\u001b[0m\u001b[0;34m\u001b[0m\u001b[0;34m\u001b[0m\u001b[0m\n",
            "\u001b[0;32m/usr/local/lib/python3.7/dist-packages/keras/optimizer_v2/optimizer_v2.py\u001b[0m in \u001b[0;36mapply_grad_to_update_var\u001b[0;34m(var, grad)\u001b[0m\n\u001b[1;32m    697\u001b[0m       \u001b[0;32mif\u001b[0m \u001b[0;34m\"apply_state\"\u001b[0m \u001b[0;32min\u001b[0m \u001b[0mself\u001b[0m\u001b[0;34m.\u001b[0m\u001b[0m_dense_apply_args\u001b[0m\u001b[0;34m:\u001b[0m\u001b[0;34m\u001b[0m\u001b[0;34m\u001b[0m\u001b[0m\n\u001b[1;32m    698\u001b[0m         \u001b[0mapply_kwargs\u001b[0m\u001b[0;34m[\u001b[0m\u001b[0;34m\"apply_state\"\u001b[0m\u001b[0;34m]\u001b[0m \u001b[0;34m=\u001b[0m \u001b[0mapply_state\u001b[0m\u001b[0;34m\u001b[0m\u001b[0;34m\u001b[0m\u001b[0m\n\u001b[0;32m--> 699\u001b[0;31m       \u001b[0mupdate_op\u001b[0m \u001b[0;34m=\u001b[0m \u001b[0mself\u001b[0m\u001b[0;34m.\u001b[0m\u001b[0m_resource_apply_dense\u001b[0m\u001b[0;34m(\u001b[0m\u001b[0mgrad\u001b[0m\u001b[0;34m,\u001b[0m \u001b[0mvar\u001b[0m\u001b[0;34m,\u001b[0m \u001b[0;34m**\u001b[0m\u001b[0mapply_kwargs\u001b[0m\u001b[0;34m)\u001b[0m\u001b[0;34m\u001b[0m\u001b[0;34m\u001b[0m\u001b[0m\n\u001b[0m\u001b[1;32m    700\u001b[0m       \u001b[0;32mif\u001b[0m \u001b[0mvar\u001b[0m\u001b[0;34m.\u001b[0m\u001b[0mconstraint\u001b[0m \u001b[0;32mis\u001b[0m \u001b[0;32mnot\u001b[0m \u001b[0;32mNone\u001b[0m\u001b[0;34m:\u001b[0m\u001b[0;34m\u001b[0m\u001b[0;34m\u001b[0m\u001b[0m\n\u001b[1;32m    701\u001b[0m         \u001b[0;32mwith\u001b[0m \u001b[0mtf\u001b[0m\u001b[0;34m.\u001b[0m\u001b[0mcontrol_dependencies\u001b[0m\u001b[0;34m(\u001b[0m\u001b[0;34m[\u001b[0m\u001b[0mupdate_op\u001b[0m\u001b[0;34m]\u001b[0m\u001b[0;34m)\u001b[0m\u001b[0;34m:\u001b[0m\u001b[0;34m\u001b[0m\u001b[0;34m\u001b[0m\u001b[0m\n",
            "\u001b[0;32m/usr/local/lib/python3.7/dist-packages/keras/optimizer_v2/gradient_descent.py\u001b[0m in \u001b[0;36m_resource_apply_dense\u001b[0;34m(self, grad, var, apply_state)\u001b[0m\n\u001b[1;32m    126\u001b[0m   \u001b[0;32mdef\u001b[0m \u001b[0m_resource_apply_dense\u001b[0m\u001b[0;34m(\u001b[0m\u001b[0mself\u001b[0m\u001b[0;34m,\u001b[0m \u001b[0mgrad\u001b[0m\u001b[0;34m,\u001b[0m \u001b[0mvar\u001b[0m\u001b[0;34m,\u001b[0m \u001b[0mapply_state\u001b[0m\u001b[0;34m=\u001b[0m\u001b[0;32mNone\u001b[0m\u001b[0;34m)\u001b[0m\u001b[0;34m:\u001b[0m\u001b[0;34m\u001b[0m\u001b[0;34m\u001b[0m\u001b[0m\n\u001b[1;32m    127\u001b[0m     \u001b[0mvar_device\u001b[0m\u001b[0;34m,\u001b[0m \u001b[0mvar_dtype\u001b[0m \u001b[0;34m=\u001b[0m \u001b[0mvar\u001b[0m\u001b[0;34m.\u001b[0m\u001b[0mdevice\u001b[0m\u001b[0;34m,\u001b[0m \u001b[0mvar\u001b[0m\u001b[0;34m.\u001b[0m\u001b[0mdtype\u001b[0m\u001b[0;34m.\u001b[0m\u001b[0mbase_dtype\u001b[0m\u001b[0;34m\u001b[0m\u001b[0;34m\u001b[0m\u001b[0m\n\u001b[0;32m--> 128\u001b[0;31m     coefficients = ((apply_state or {}).get((var_device, var_dtype))\n\u001b[0m\u001b[1;32m    129\u001b[0m                     or self._fallback_apply_state(var_device, var_dtype))\n\u001b[1;32m    130\u001b[0m \u001b[0;34m\u001b[0m\u001b[0m\n",
            "\u001b[0;31mKeyboardInterrupt\u001b[0m: "
          ]
        }
      ]
    },
    {
      "cell_type": "code",
      "source": [
        "for i in range(5):\n",
        "  for j in range(3):\n",
        "    x, y = train_gen.__getitem__(j)\n",
        "    features = SeriesEncoder(x[0], training=False)\n",
        "    features = keras.layers.RepeatVector(x[1])(features)\n",
        "    logits   = SeriesDecoder(features, training=False)\n",
        "    plt.plot(np.linspace(0,1,logits[0,:,i].shape[0]),logits[0,:,i])\n",
        "    plt.plot(np.linspace(0,1,x[0][0,:,i].shape[0]),x[0][0,:,i])\n",
        "  plt.show()"
      ],
      "metadata": {
        "id": "WvOLUdmEZ9uX"
      },
      "execution_count": null,
      "outputs": []
    },
    {
      "cell_type": "code",
      "source": [
        "\n",
        "\n",
        "for i in range(5):\n",
        "  for j in range(10):\n",
        "    x, y = train_gen.__getitem__(j)\n",
        "\n",
        "    plt.plot(np.linspace(0,1,x[0][0,:,i].shape[0]),x[0][0,:,i])\n",
        "  plt.show()"
      ],
      "metadata": {
        "id": "rvcxkt1efz4u"
      },
      "execution_count": null,
      "outputs": []
    },
    {
      "cell_type": "code",
      "source": [],
      "metadata": {
        "id": "AatGX9UxUKiM"
      },
      "execution_count": null,
      "outputs": []
    }
  ]
}